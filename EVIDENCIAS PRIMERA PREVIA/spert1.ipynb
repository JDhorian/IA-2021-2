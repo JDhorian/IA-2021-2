{
  "nbformat": 4,
  "nbformat_minor": 0,
  "metadata": {
    "colab": {
      "name": "Sistemasexpertos.ipynb",
      "provenance": [],
      "collapsed_sections": []
    },
    "kernelspec": {
      "name": "python3",
      "display_name": "Python 3"
    },
    "language_info": {
      "name": "python"
    }
  },
  "cells": [
    {
      "cell_type": "code",
      "metadata": {
        "id": "6n5P0I1Qdojs"
      },
      "source": [
        "\n",
        "sintoma = ['Fiebre', 'Malestar', 'Tos', 'Dolor de Garganta']\n",
        "enfermedad = [\"Gripe\", \"Faringitis\"] \n",
        "SintomasEnfermedad = {\"Gripe\":['Fiebre','Malestar','Tos'], \"Faringitis\":['Dolor de Garganta','Malestar']}\n",
        "Tratamiento = {\"Acetaminofen\": [\"Gripe\"], \"Diclofenaco\": [\"Faringitis\"]}\n",
        "Efectos_Tratamiento = {\"Acetaminofen\": [\"Analgesico\"], \"Diclofenaco\": [\"Äntinflamatorio\"]}\n",
        "sintomas_paciente = []\n",
        "enfermedad = 0\n",
        "tratamiento = 0\n",
        "Agenda = {}\n",
        "\n",
        "\n",
        "\n",
        "def buscarenfermedad(sintomas):\n",
        "  for i in SintomasEnfermedad:\n",
        "    if (len(set(SintomasEnfermedad[i]) & set(sintomas)) > 0):\n",
        "      Agenda[i] = len(set(SintomasEnfermedad[i]) & set(sintomas)) \n",
        "  enfermedad =max(Agenda)\n",
        "  return (enfermedad)\n",
        "\n",
        "def buscartratamiento():\n",
        "    if (max(Agenda) in Tratamiento[i]):\n",
        "      tratamiento = i\n",
        "  return tratamiento\n",
        "\n",
        "def buscarefectos():\n",
        "  return Efectos_Tratamiento[tratamiento][0]\n",
        "\n",
        "def vaciaragenda():\n",
        "  Agenda.clear()\n",
        "\n",
        "\n",
        "if __name__ == \"__main__\":\n",
        "  enfermedad = 0\n",
        "  sintomas = []\n",
        "  tratamiento = 0\n",
        "  ciclo = True\n",
        "  ciclo2 = \"m\"\n",
        "  csintomas = 1\n",
        "\n",
        "  while (ciclo == True):\n",
        "    ciclo2 = \"\"\n",
        "    print(\"Ïngrese el sintoma \", csintomas,\": \")\n",
        "    sintomas.append(input())\n",
        "    csintomas += 1\n",
        "    while (not (ciclo2 == \"Y\" or ciclo2 ==\"N\")):\n",
        "      ciclo2 = input(\"Quiere ingresar mas datos? Y o N: \")\n",
        "      if ciclo2 == \"N\":\n",
        "        ciclo = False\n",
        "    \n",
        "  enfermedad = buscarenfermedad(sintomas)\n",
        "  tratamiento = buscartratamiento()\n",
        "  efecto = buscarefectos()\n",
        "\n",
        "  print(\"Usted tiene \", enfermedad, \", se recomienda utilizar, \", tratamiento, \" como tratamiento, que es un \", efecto)\n"
      ],
      "execution_count": null,
      "outputs": []
    }
  ]
}