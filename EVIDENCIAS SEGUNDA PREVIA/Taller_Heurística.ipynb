{
  "nbformat": 4,
  "nbformat_minor": 0,
  "metadata": {
    "colab": {
      "name": "Taller_Heurística.ipynb",
      "provenance": [],
      "collapsed_sections": []
    },
    "kernelspec": {
      "name": "python3",
      "display_name": "Python 3"
    },
    "language_info": {
      "name": "python"
    }
  },
  "cells": [
    {
      "cell_type": "markdown",
      "source": [
        "#Busqueda Heuristica"
      ],
      "metadata": {
        "id": "bu4-sOKC_fmi"
      }
    },
    {
      "cell_type": "markdown",
      "metadata": {
        "id": "SNbpRClYi8ku"
      },
      "source": [
        "![image.png](data:image/png;base64,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)\n"
      ]
    },
    {
      "cell_type": "code",
      "metadata": {
        "id": "8lUsFC8H-HEc"
      },
      "source": [
        "#Estructura de datos\n",
        "\n",
        "class Grafo(object):\n",
        "    def __init__(self):\n",
        "        self.relaciones = {}\n",
        "    def __str__(self):\n",
        "        return str(self.relaciones)\n",
        "\n",
        "class Arista(object):\n",
        "    def __init__(self, elemento, peso):\n",
        "        self.elemento = elemento\n",
        "        self.peso = peso      \n",
        "    def __str__(self):\n",
        "        return str(self.elemento) + str(self.peso)\n",
        " \n",
        "class Modelo:\n",
        "\n",
        "  def agregar(self, grafo, elemento):\n",
        "      grafo.relaciones.update({elemento:[]})\n",
        "\n",
        "  def relacionarUnilateral(self, grafo, origen, destino, peso):\n",
        "      grafo.relaciones[origen].append(Arista(destino, peso))\n",
        "  \n",
        "  def relacionar(self, grafo, elemento1, elemento2, peso = 1):\n",
        "      self.relacionarUnilateral(grafo, elemento1, elemento2, peso)\n",
        "      \n",
        "\n",
        "# En los niveles pares se va a maximizar\n",
        "# En los niveles de profundidad impares de va a minimizar\n",
        "\n",
        "class Controlador:\n",
        "  def __init__(self):\n",
        "    self.modelo = Modelo()\n",
        "    self.grafo = Grafo()\n",
        "    self.max_peso = 0\n",
        "    self.node_name = ''\n",
        "    self.min_peso = 0\n",
        "\n",
        "    self.path = []  \n",
        "    self.weight = []\n",
        "    self.visitados = []\n",
        "    self.level = 0\n",
        "\n",
        "    self.nodos_directos = []\n",
        "    self.promed_pesos = 0\n",
        "    self.min_and_relacione = 0\n",
        "    self.max_and_relaciones = 0\n",
        "    self.Agenda = {}\n",
        "\n",
        "  def maximizar(self, grafo, nodo):  \n",
        "    self.max_peso = 0\n",
        "    self.node_name = ''\n",
        "    for arista in grafo.relaciones[nodo] :\n",
        "      if(arista.peso > self.max_peso and (not(arista.elemento in self.visitados ) ) ):\n",
        "        self.max_peso = arista.peso\n",
        "        self.node_name = arista.elemento\n",
        "\n",
        "    return [self.node_name, self.max_peso,  grafo.relaciones[nodo]]\n",
        "\n",
        "\n",
        "\n",
        "  def minimizar(self, grafo, nodo):\n",
        "    self.min_peso = 10\n",
        "    self.node_name = ''\n",
        "    for arista in grafo.relaciones[nodo]:\n",
        "      if(arista.peso <= self.min_peso and (not(arista.elemento in self.visitados ) ) ):\n",
        "        self.min_peso = arista.peso\n",
        "        self.node_name = arista.elemento\n",
        "\n",
        "    return [self.node_name , self.min_peso,  grafo.relaciones[nodo]]\n",
        "\n",
        "\n",
        "  def encontrar_camino(self, grafo, node):\n",
        "\n",
        "    if (node != \"A\" ):\n",
        "      self.visitados.append(node)\n",
        "\n",
        "    self.path.append(node)\n",
        "    if (self.level % 2 == 0): #niveles pares\n",
        "      self.max_and_relaciones = self.maximizar(grafo, node)\n",
        "      self.weight.append(self.max_and_relaciones[1])\n",
        "      self.level += 1\n",
        "      if(self.max_and_relaciones[2] != []): #Si quedan nodos en alguna rama\n",
        "        self.encontrar_camino(grafo, self.max_and_relaciones[0])\n",
        "\n",
        "    else:#niveles impares\n",
        "      self.min_and_relaciones = self.minimizar(grafo,node)\n",
        "      self.weight.append(self.min_and_relaciones[1])\n",
        "      self.level += 1\n",
        "      if(self.min_and_relaciones[2] != []):\n",
        "        self.encontrar_camino(grafo, self.min_and_relaciones[0])\n",
        "    \n",
        "    return self.path\n",
        "\n",
        "  #path = encontrar_camino(grafo, 'e6')\n",
        "  def agregargrafo(self, elemento):\n",
        "    self.modelo.agregar(self.grafo, elemento)\n",
        "\n",
        "  def relacionargrafo(self, elemento1, elemento2, peso):\n",
        "    self.modelo.relacionar(self.grafo, elemento1, elemento2, peso)\n",
        "\n",
        "\n",
        "  def start(self):\n",
        "    self.nodos_directos = []\n",
        "    for arista in self.grafo.relaciones[\"A\"]:\n",
        "      self.nodos_directos.append(arista.elemento)\n",
        "      \n",
        "    while (  len(self.visitados) < (len(self.grafo.relaciones.keys()) - 1 )  ):\n",
        "\n",
        "      self.path = self.encontrar_camino(self.grafo, \"A\")\n",
        "      self.level = 0\n",
        "\n",
        "      #promedio de pesos para una rama\n",
        "      self.promed_pesos = float(sum(self.weight) / (len(self.weight) - 1 ) )\n",
        "      if(self.promed_pesos < self.weight[0]):\n",
        "        print('El peso promedio: {0} \\n El camino a seguir {1}'.format(self.promed_pesos, self.path ))\n",
        "        break\n",
        "      else:\n",
        "        self.path.clear()\n",
        "        self.weight.clear()\n",
        "        #print('No se econtró camino satisfactorio!')\n",
        "\n",
        "\n",
        "  #print('{0}\\n{1}\\n{2}\\n{3}'.format(path, weight, nodos_directos, visitados))\n",
        "\n",
        "\n",
        "\n"
      ],
      "execution_count": null,
      "outputs": []
    },
    {
      "cell_type": "code",
      "metadata": {
        "colab": {
          "base_uri": "https://localhost:8080/"
        },
        "id": "Ez6R_AUB9x3W",
        "outputId": "01ac9d3e-dc5c-4290-df22-11a55a49fa07"
      },
      "source": [
        "\n",
        "encontrar = Controlador()\n",
        "\n",
        "encontrar.agregargrafo(\"A\")\n",
        "encontrar.agregargrafo(\"B\")\n",
        "encontrar.agregargrafo(\"C\")\n",
        "encontrar.agregargrafo(\"D\")\n",
        "encontrar.agregargrafo(\"E\")\n",
        "encontrar.agregargrafo(\"F\")\n",
        "encontrar.agregargrafo(\"G\")\n",
        "encontrar.agregargrafo(\"H\")\n",
        "encontrar.agregargrafo(\"I\")\n",
        "\n",
        "encontrar.relacionargrafo(\"A\", \"B\", 4)\n",
        "encontrar.relacionargrafo(\"A\", \"C\", 2)\n",
        "encontrar.relacionargrafo(\"A\", \"D\", 6)\n",
        "encontrar.relacionargrafo(\"B\", \"E\", 5)\n",
        "encontrar.relacionargrafo(\"B\", \"F\", 2)\n",
        "encontrar.relacionargrafo(\"C\", \"G\", 3)\n",
        "encontrar.relacionargrafo(\"C\", \"H\", 1)\n",
        "encontrar.relacionargrafo(\"D\", \"I\", 7)\n",
        "\n",
        "encontrar.start()\n",
        "\n",
        "\n",
        "\n",
        "#mejor camino\n",
        "\n",
        "\n",
        "\n",
        "\n"
      ],
      "execution_count": null,
      "outputs": [
        {
          "output_type": "stream",
          "name": "stdout",
          "text": [
            "El peso promedio: 3.0 \n",
            " El camino a seguir ['A', 'B', 'F']\n"
          ]
        }
      ]
    }
  ]
}